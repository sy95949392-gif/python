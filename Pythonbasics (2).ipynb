{
  "nbformat": 4,
  "nbformat_minor": 0,
  "metadata": {
    "colab": {
      "provenance": []
    },
    "kernelspec": {
      "name": "python3",
      "display_name": "Python 3"
    },
    "language_info": {
      "name": "python"
    }
  },
  "cells": [
    {
      "cell_type": "code",
      "execution_count": null,
      "metadata": {
        "id": "3ocg8Kzayhaz"
      },
      "outputs": [],
      "source": []
    },
    {
      "cell_type": "markdown",
      "source": [
        "# Python"
      ],
      "metadata": {
        "id": "iVUK2QLGy9OP"
      }
    },
    {
      "cell_type": "markdown",
      "source": [
        "1.What is Python, and why is it popular?\n",
        "\n",
        "--> Python is a high-level, interpreted programming language known for its simplicity, readability, and versatity.it is popular because it is Beginner-Friendly,has a lot of libraries like pandas,numpy,etc.it is very easy to learn and widely used in industry."
      ],
      "metadata": {
        "id": "FPtf8V8szdA9"
      }
    },
    {
      "cell_type": "markdown",
      "source": [
        "2.What is an interpreter in Python?\n",
        "\n",
        "--> In Python, an interpreter is the program that executes Python code line by line, converting it into machine-readable instructions so the computer can run it."
      ],
      "metadata": {
        "id": "L_DXEGgi3PjA"
      }
    },
    {
      "cell_type": "markdown",
      "source": [
        "3.What are pre-defined keywords in Python?\n",
        "\n",
        "--> In python Pre-defined keywords are built-in reserved words in Python that have fixed meanings and are used to write programs.example:- if,else,or,and,true,false and etc."
      ],
      "metadata": {
        "id": "R0I8DDXi4Zjp"
      }
    },
    {
      "cell_type": "markdown",
      "source": [
        "4.Can keywords be used as variable names?\n",
        "\n",
        "--> No. Keywords cannot be used as variable names because they are reserved for Python's own commands and syntax."
      ],
      "metadata": {
        "id": "n4EzLkDg5nYl"
      }
    },
    {
      "cell_type": "markdown",
      "source": [
        "5.What is mutability in Python?\n",
        "\n",
        "--> Mutability in Python means whether an object's value can be changed after it is created."
      ],
      "metadata": {
        "id": "jAuijopj99Qa"
      }
    },
    {
      "cell_type": "markdown",
      "source": [
        "6.Why are lists mutable, but tuples are immutable?\n",
        "\n",
        "--> Lists are mutable because they are designed for dynamic, changeable data.\n",
        "Tuples are immutable because they are meant to represent fixed collections of data.\n"
      ],
      "metadata": {
        "id": "gsmco4nR-tlb"
      }
    },
    {
      "cell_type": "markdown",
      "source": [
        "7.What is the difference between “==” and “is” operators in Python?\n",
        "\n",
        "--> \"=\" is called as Equality operator it compares Values whether two objects have the same content.\n",
        "\"is\" it is called as Identity operator.it compares Memory location whether two variables point to the exact same object.\n",
        "== → checks equality of values.\n",
        "is → checks if both refer to the exact same object in memory."
      ],
      "metadata": {
        "id": "eDnEBHfZ_iYH"
      }
    },
    {
      "cell_type": "markdown",
      "source": [
        "8.What are logical operators in Python?\n",
        "\n",
        "--> Logical operators in Python are used to combine conditional statements and return a Boolean value True or False.the operators are and,or,not.\n",
        "1.\"and\" Returns True if both conditions are true.Example:- 5 > 2 and 10 > 5\n",
        "2.\"or\" Returns True if at least one condition is true.Example:- 5 > 10 or 3 < 7\n",
        "3.\"not\"Reverses the result logical NOT."
      ],
      "metadata": {
        "id": "zHng1EZxCMgT"
      }
    },
    {
      "cell_type": "markdown",
      "source": [
        "9.What is type casting in Python?\n",
        "\n",
        "-->Type casting in Python means converting one data type into another.Type casting is changing a value’s data type, like converting string → int, int → float, etc."
      ],
      "metadata": {
        "id": "8N6qFFOYEeNg"
      }
    },
    {
      "cell_type": "markdown",
      "source": [
        "10.What is the difference between implicit and explicit type casting?\n",
        "\n",
        "-->1.Implicit casting is done automatically by Python and no loss of data.it is done by interpreter.\n",
        "2.Explicit casting is done manually by using functions like int(), float(), str().it is done by programmer.\n"
      ],
      "metadata": {
        "id": "9qUWuBZSFEry"
      }
    },
    {
      "cell_type": "markdown",
      "source": [
        "11.What is the purpose of conditional statements in Python?\n",
        "\n",
        "-->The purpose of conditional statements in Python is to make decisions in a program they allow the program to execute certain blocks of code only if a condition is true.Conditional statements are used to control the flow of a program based on conditions (like if, elif, else)."
      ],
      "metadata": {
        "id": "EXQxqStbGiXy"
      }
    },
    {
      "cell_type": "markdown",
      "source": [
        "12.How does the elif statement work?\n",
        "\n",
        "-->The elif statement in Python means \"else if\" and is used to check multiple conditions after an if statement.\n",
        "1.Python checks conditions from top to bottom.\n",
        "2.The first condition that is True runs, and the rest are skipped."
      ],
      "metadata": {
        "id": "mjEGyNpPHRbD"
      }
    },
    {
      "cell_type": "markdown",
      "source": [
        "13.What is the difference between for and while loops?\n",
        "\n",
        "-->for loop → used when you know the number of repetitions or want to iterate over a sequence.\n",
        "while loop → used when you want to repeat until a condition is false (unknown number of repetitions)."
      ],
      "metadata": {
        "id": "HST6CW_AIIS0"
      }
    },
    {
      "cell_type": "markdown",
      "source": [
        "14.Describe a scenario where a while loop is more suitable than a for loop?\n",
        "\n",
        "-->A while loop is more suitable when you don’t know in advance how many times you need to repeat something you just want to keep running until a condition becomes false.\n",
        "Example:-ATM PIN verification system.Here, we don’t know how many times the user might enter the wrong PIN,so a while loop keeps asking until the correct PIN is entered."
      ],
      "metadata": {
        "id": "yazCo2qlIyhy"
      }
    },
    {
      "cell_type": "markdown",
      "source": [],
      "metadata": {
        "id": "IdwrgY-lJ36M"
      }
    },
    {
      "cell_type": "code",
      "source": [
        "#Q1. Write a Python program to print \"Hello, World!?\n",
        "print(\"Hello, world!\")"
      ],
      "metadata": {
        "colab": {
          "base_uri": "https://localhost:8080/"
        },
        "id": "mEy3qAaVNajX",
        "outputId": "0e9dcdfb-0c82-4e22-f3f3-87d1073b8a97"
      },
      "execution_count": 5,
      "outputs": [
        {
          "output_type": "stream",
          "name": "stdout",
          "text": [
            "Hello, world!\n"
          ]
        }
      ]
    },
    {
      "cell_type": "code",
      "source": [
        "#Q2. Write a Python program that displays your name and age?\n",
        "name = \"sagar\"\n",
        "age = 20\n",
        "\n",
        "print(\"My name is\", name )\n",
        "print(\"My age is\", age)\n"
      ],
      "metadata": {
        "colab": {
          "base_uri": "https://localhost:8080/"
        },
        "id": "VChafJwaQTAg",
        "outputId": "d50ebe1f-1530-4441-a25d-23c0bce81124"
      },
      "execution_count": 4,
      "outputs": [
        {
          "output_type": "stream",
          "name": "stdout",
          "text": [
            "My name is sagar\n",
            "My age is 20\n"
          ]
        }
      ]
    },
    {
      "cell_type": "code",
      "source": [
        "#Q3. Write code to print all the pre-defined keywords in Python using the keyword library?\n",
        "import keyword\n",
        "print(keyword.kwlist)"
      ],
      "metadata": {
        "colab": {
          "base_uri": "https://localhost:8080/"
        },
        "id": "eersXzvaR19M",
        "outputId": "ce4e493c-48e2-4c9b-d3bd-c84172cfe3aa"
      },
      "execution_count": 6,
      "outputs": [
        {
          "output_type": "stream",
          "name": "stdout",
          "text": [
            "['False', 'None', 'True', 'and', 'as', 'assert', 'async', 'await', 'break', 'class', 'continue', 'def', 'del', 'elif', 'else', 'except', 'finally', 'for', 'from', 'global', 'if', 'import', 'in', 'is', 'lambda', 'nonlocal', 'not', 'or', 'pass', 'raise', 'return', 'try', 'while', 'with', 'yield']\n"
          ]
        }
      ]
    },
    {
      "cell_type": "code",
      "source": [
        "#Q4. Write a program that checks if a given word is a Python keyword?\n",
        "import keyword\n",
        "keyword.iskeyword('if')"
      ],
      "metadata": {
        "colab": {
          "base_uri": "https://localhost:8080/"
        },
        "id": "ARd3ZweVZVhY",
        "outputId": "5422989f-5a3b-47e6-dd93-a7b982ac6bb2"
      },
      "execution_count": 7,
      "outputs": [
        {
          "output_type": "execute_result",
          "data": {
            "text/plain": [
              "True"
            ]
          },
          "metadata": {},
          "execution_count": 7
        }
      ]
    },
    {
      "cell_type": "code",
      "source": [
        "#Q5 Create a list and tuple in Python, and demonstrate how attempting to change an element works differently\n",
        "for each.\n",
        "# Creating a list and a tuple\n",
        "fruits_list = [\"apple\", \"banana\", \"cherry\"]\n",
        "fruits_tuple = (\"mango\", \"orange\", \"grape\")\n",
        "\n",
        "print(\"Original list:\", fruits_list)\n",
        "print(\"Original tuple:\", fruits_tuple)\n",
        "\n",
        "# Changing an element in the list (mutable)\n",
        "fruits_list[1] = \"blueberry\"\n",
        "print(\"Modified list:\", fruits_list)\n",
        "\n",
        "# Attempting to change an element in the tuple (immutable)\n",
        "try:\n",
        "    fruits_tuple[1] = \"pineapple\"\n",
        "except TypeError as e:\n",
        "    print(\"Error when trying to modify tuple:\", e)\n"
      ],
      "metadata": {
        "colab": {
          "base_uri": "https://localhost:8080/"
        },
        "id": "GYAGBjmFj73Z",
        "outputId": "06cbb6c3-bf7f-4227-82bb-b706e2457c2c"
      },
      "execution_count": 13,
      "outputs": [
        {
          "output_type": "stream",
          "name": "stdout",
          "text": [
            "Original list: ['apple', 'banana', 'cherry']\n",
            "Original tuple: ('mango', 'orange', 'grape')\n",
            "Modified list: ['apple', 'blueberry', 'cherry']\n",
            "Error when trying to modify tuple: 'tuple' object does not support item assignment\n"
          ]
        }
      ]
    },
    {
      "cell_type": "code",
      "source": [
        "#Q6.  Write a function to demonstrate the behavior of mutable and immutable arguments.\n",
        "# Function to modify a list (mutable)\n",
        "def modify_list(lst):\n",
        "    lst.append(100)\n",
        "    print(\"Inside function (list):\", lst)\n",
        "\n",
        "# Function to modify an integer (immutable)\n",
        "def modify_number(num):\n",
        "    num += 50\n",
        "    print(\"Inside function (number):\", num)\n",
        "\n",
        "# Mutable object example\n",
        "my_list = [1, 2, 3]\n",
        "print(\"Original list:\", my_list)\n",
        "modify_list(my_list)\n",
        "print(\"After function call (list):\", my_list)\n",
        "\n",
        "# Immutable object example\n",
        "my_number = 10\n",
        "print(\"\\nOriginal number:\", my_number)\n",
        "modify_number(my_number)\n",
        "print(\"After function call (number):\", my_number)\n"
      ],
      "metadata": {
        "colab": {
          "base_uri": "https://localhost:8080/"
        },
        "id": "m9frlTDkkQ6x",
        "outputId": "6502c86e-61db-4d59-a4b9-4c46929d6a4e"
      },
      "execution_count": 14,
      "outputs": [
        {
          "output_type": "stream",
          "name": "stdout",
          "text": [
            "Original list: [1, 2, 3]\n",
            "Inside function (list): [1, 2, 3, 100]\n",
            "After function call (list): [1, 2, 3, 100]\n",
            "\n",
            "Original number: 10\n",
            "Inside function (number): 60\n",
            "After function call (number): 10\n"
          ]
        }
      ]
    },
    {
      "cell_type": "code",
      "source": [
        "#Q7. Write a program that performs basic arithmetic operations on two user-input numbers.\n",
        "num1 = float(input(\"Enter the first number: \"))\n",
        "num2 = float(input(\"Enter the second number: \"))\n",
        "\n",
        "addition = num1 + num2\n",
        "subtraction = num1 - num2\n",
        "multiplication = num1 * num2\n",
        "\n",
        "if num2 != 0:\n",
        "    division = num1 / num2\n",
        "else:\n",
        "    division = \"Undefined (division by zero)\"\n",
        "\n",
        "print(\"\\nResults:\")\n",
        "print(f\"{num1} + {num2} = {addition}\")\n",
        "print(f\"{num1} - {num2} = {subtraction}\")\n",
        "print(f\"{num1} * {num2} = {multiplication}\")\n",
        "print(f\"{num1} / {num2} = {division}\")\n"
      ],
      "metadata": {
        "colab": {
          "base_uri": "https://localhost:8080/"
        },
        "id": "2q0jmmCpoQX5",
        "outputId": "2a3f3cb8-bea5-47e5-e543-f534bdb71748"
      },
      "execution_count": 18,
      "outputs": [
        {
          "output_type": "stream",
          "name": "stdout",
          "text": [
            "Enter the first number: 10\n",
            "Enter the second number: 5\n",
            "\n",
            "Results:\n",
            "10.0 + 5.0 = 15.0\n",
            "10.0 - 5.0 = 5.0\n",
            "10.0 * 5.0 = 50.0\n",
            "10.0 / 5.0 = 2.0\n"
          ]
        }
      ]
    },
    {
      "cell_type": "code",
      "source": [
        "#Q8. Write a program to demonstrate the use of logical operators.\n",
        "\n",
        "num1 = int(input(\"Enter the first number: \"))\n",
        "num2 = int(input(\"Enter the second number: \"))\n",
        "\n",
        "# Demonstrate 'and' opeator\n",
        "if num1 > 0 and num2 > 0:\n",
        "    print(\"Both numbers are positive.\")\n",
        "\n",
        "# Demonstrate 'or' operator\n",
        "if num1 % 2 == 0 or num2 % 2 == 0:\n",
        "    print(\"At least one number is even.\")\n",
        "\n",
        "# Demonstrate 'not' operator\n",
        "if not(num1 > 0):\n",
        "    print(\"The first number is not positive.\")\n",
        "if not(num2 > 0):\n",
        "    print(\"The second number is not positive.\")\n"
      ],
      "metadata": {
        "colab": {
          "base_uri": "https://localhost:8080/"
        },
        "id": "1aOoV8L-orQ3",
        "outputId": "49cd56a2-2ef3-48d9-9b06-04ff33655ea3"
      },
      "execution_count": 19,
      "outputs": [
        {
          "output_type": "stream",
          "name": "stdout",
          "text": [
            "Enter the first number: 7\n",
            "Enter the second number: 6\n",
            "Both numbers are positive.\n",
            "At least one number is even.\n"
          ]
        }
      ]
    },
    {
      "cell_type": "code",
      "source": [
        "#Q9.Write a Python program to convert user input from string to integer, float, and boolean types.\n",
        "# Take input from the user (always a string)\n",
        "user_input = input(\"Enter something: \")\n",
        "\n",
        "# Convert to integer\n",
        "try:\n",
        "    int_value = int(user_input)\n",
        "except ValueError:\n",
        "    int_value = \"Cannot convert to integer\"\n",
        "\n",
        "# Convert to float\n",
        "try:\n",
        "    float_value = float(user_input)\n",
        "except ValueError:\n",
        "    float_value = \"Cannot convert to float\"\n",
        "\n",
        "# Convert to boolean\n",
        "# In Python, empty string is False, anything else is True\n",
        "bool_value = bool(user_input)\n",
        "\n",
        "# Display the converted values\n",
        "print(\"\\nConverted values:\")\n",
        "print(\"Integer:\", int_value)\n",
        "print(\"Float:\", float_value)\n",
        "print(\"Boolean:\", bool_value)\n"
      ],
      "metadata": {
        "colab": {
          "base_uri": "https://localhost:8080/"
        },
        "id": "c_VGcbUvptMx",
        "outputId": "7b2f2170-fb66-49ac-e5e1-4eebb3508c39"
      },
      "execution_count": 20,
      "outputs": [
        {
          "output_type": "stream",
          "name": "stdout",
          "text": [
            "Enter something: 123\n",
            "\n",
            "Converted values:\n",
            "Integer: 123\n",
            "Float: 123.0\n",
            "Boolean: True\n"
          ]
        }
      ]
    },
    {
      "cell_type": "code",
      "source": [
        "#Q10.Write code to demonstrate type casting with list elements.\n",
        "# Original list with string numbers\n",
        "str_list = [\"10\", \"20\", \"30\", \"40\"]\n",
        "\n",
        "print(\"Original list (strings):\", str_list)\n",
        "\n",
        "# Convert each element from string to integer using list comprehension\n",
        "int_list = [int(item) for item in str_list]\n",
        "print(\"Converted list (integers):\", int_list)\n",
        "\n",
        "# Convert each element from integer to float\n",
        "float_list = [float(item) for item in int_list]\n",
        "print(\"Converted list (floats):\", float_list)\n",
        "\n",
        "# Convert each element to string again\n",
        "str_list_again = [str(item) for item in float_list]\n",
        "print(\"Converted list (strings again):\", str_list_again)\n"
      ],
      "metadata": {
        "colab": {
          "base_uri": "https://localhost:8080/"
        },
        "id": "NrHH79Y6q77m",
        "outputId": "5d89745e-4717-446a-8968-3d7ab51fdc1c"
      },
      "execution_count": 21,
      "outputs": [
        {
          "output_type": "stream",
          "name": "stdout",
          "text": [
            "Original list (strings): ['10', '20', '30', '40']\n",
            "Converted list (integers): [10, 20, 30, 40]\n",
            "Converted list (floats): [10.0, 20.0, 30.0, 40.0]\n",
            "Converted list (strings again): ['10.0', '20.0', '30.0', '40.0']\n"
          ]
        }
      ]
    },
    {
      "cell_type": "code",
      "source": [
        "#Q11.Write a program that checks if a number is positive, negative, or zero\n",
        "num = float(input(\"Enter a number: \"))\n",
        "\n",
        "if num > 0:\n",
        "    print(\"The number is positive.\")\n",
        "elif num < 0:\n",
        "    print(\"The number is negative.\")\n",
        "else:\n",
        "    print(\"The number is zero.\")\n"
      ],
      "metadata": {
        "colab": {
          "base_uri": "https://localhost:8080/"
        },
        "id": "1C0a1I6jrXlQ",
        "outputId": "3a2cd819-8603-425c-a4a1-307e585227ac"
      },
      "execution_count": 24,
      "outputs": [
        {
          "output_type": "stream",
          "name": "stdout",
          "text": [
            "Enter a number: 7\n",
            "The number is positive.\n"
          ]
        }
      ]
    },
    {
      "cell_type": "code",
      "source": [
        "#12. Write a for loop to print numbers from 1 to 10.\n",
        "for i in range(1,10):\n",
        "  print(i)"
      ],
      "metadata": {
        "colab": {
          "base_uri": "https://localhost:8080/"
        },
        "id": "UO2po2U2tF8s",
        "outputId": "41c04f4e-91bb-4831-81f3-63d64c561969"
      },
      "execution_count": 25,
      "outputs": [
        {
          "output_type": "stream",
          "name": "stdout",
          "text": [
            "1\n",
            "2\n",
            "3\n",
            "4\n",
            "5\n",
            "6\n",
            "7\n",
            "8\n",
            "9\n"
          ]
        }
      ]
    },
    {
      "cell_type": "code",
      "source": [
        "#Q13.Write a Python program to find the sum of all even numbers between 1 and 50.\n",
        "for i in range(1,50):\n",
        "  if i % 2 == 0:\n",
        "    print(i)"
      ],
      "metadata": {
        "colab": {
          "base_uri": "https://localhost:8080/"
        },
        "id": "Qx4BfZQyvM7e",
        "outputId": "3fdb5350-138b-4d54-cf71-36d4150bd560"
      },
      "execution_count": 28,
      "outputs": [
        {
          "output_type": "stream",
          "name": "stdout",
          "text": [
            "2\n",
            "4\n",
            "6\n",
            "8\n",
            "10\n",
            "12\n",
            "14\n",
            "16\n",
            "18\n",
            "20\n",
            "22\n",
            "24\n",
            "26\n",
            "28\n",
            "30\n",
            "32\n",
            "34\n",
            "36\n",
            "38\n",
            "40\n",
            "42\n",
            "44\n",
            "46\n",
            "48\n"
          ]
        }
      ]
    },
    {
      "cell_type": "code",
      "source": [
        "#Q14. Write a program to reverse a string using a while loop.\n",
        "original_string = input(\"Enter a string: \")\n",
        "\n",
        "reversed_string = \"\"\n",
        "index = len(original_string) - 1  # Start from the last character\n",
        "\n",
        "while index >= 0:\n",
        "    reversed_string += original_string[index]\n",
        "    index -= 1\n",
        "\n",
        "print(\"Reversed string:\", reversed_string)\n"
      ],
      "metadata": {
        "colab": {
          "base_uri": "https://localhost:8080/"
        },
        "id": "kf6FJejoEHQA",
        "outputId": "f3983cd1-2f75-4a07-a61f-5fbf9f3fc4f1"
      },
      "execution_count": 33,
      "outputs": [
        {
          "output_type": "stream",
          "name": "stdout",
          "text": [
            "Enter a string: sagar\n",
            "Reversed string: ragas\n"
          ]
        }
      ]
    },
    {
      "cell_type": "code",
      "source": [
        "#Q15. Write a Python program to calculate the factorial of a number provided by the user using a while loop.\n",
        "num = int(input(\"Enter a number: \"))\n",
        "\n",
        "factorial = 1\n",
        "n = num  # Copy of the number for the loop\n",
        "\n",
        "while n > 0:\n",
        "    factorial *= n\n",
        "    n -= 1\n",
        "\n",
        "print(f\"The factorial of {num} is: {factorial}\")\n"
      ],
      "metadata": {
        "colab": {
          "base_uri": "https://localhost:8080/"
        },
        "id": "jOYq7fKuE7A7",
        "outputId": "76df21af-f9f8-4c01-8da3-3ac8a42cf4be"
      },
      "execution_count": 34,
      "outputs": [
        {
          "output_type": "stream",
          "name": "stdout",
          "text": [
            "Enter a number: 5\n",
            "The factorial of 5 is: 120\n"
          ]
        }
      ]
    }
  ]
}